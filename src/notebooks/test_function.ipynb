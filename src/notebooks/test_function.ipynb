{
 "cells": [
  {
   "cell_type": "code",
   "execution_count": 6,
   "id": "6b4aaf9e",
   "metadata": {},
   "outputs": [],
   "source": [
    "def check_stock_existence(company_symbol, intraday_companies):\n",
    "    split_name_companies = [name.split('.')[0] for name in intraday_companies]\n",
    "    print(split_name_companies)\n",
    "    if company_symbol not in intraday_companies:\n",
    "        raise ValueError(f\"The stock of company {company_symbol} doesn't exist. Please run again \\\n",
    "                         df_intraday_raw.parquet to find the stock.\")"
   ]
  },
  {
   "cell_type": "code",
   "execution_count": 7,
   "id": "62a331e4",
   "metadata": {},
   "outputs": [
    {
     "name": "stdout",
     "output_type": "stream",
     "text": [
      "['CTG']\n"
     ]
    },
    {
     "ename": "ValueError",
     "evalue": "The stock of company CTG doesn't exist. Please run again                          df_intraday_raw.parquet to find the stock.",
     "output_type": "error",
     "traceback": [
      "\u001b[1;31m---------------------------------------------------------------------------\u001b[0m",
      "\u001b[1;31mValueError\u001b[0m                                Traceback (most recent call last)",
      "\u001b[1;32m~\\AppData\\Local\\Temp\\ipykernel_14456\\2446846772.py\u001b[0m in \u001b[0;36m<module>\u001b[1;34m\u001b[0m\n\u001b[0;32m      2\u001b[0m \u001b[0mcompany_symbol\u001b[0m \u001b[1;33m=\u001b[0m \u001b[1;34m'CTG'\u001b[0m\u001b[1;33m\u001b[0m\u001b[1;33m\u001b[0m\u001b[0m\n\u001b[0;32m      3\u001b[0m \u001b[1;33m\u001b[0m\u001b[0m\n\u001b[1;32m----> 4\u001b[1;33m \u001b[0mcheck_stock_existence\u001b[0m\u001b[1;33m(\u001b[0m\u001b[0mcompany_symbol\u001b[0m\u001b[1;33m,\u001b[0m \u001b[0mintraday_companies\u001b[0m\u001b[1;33m)\u001b[0m\u001b[1;33m\u001b[0m\u001b[1;33m\u001b[0m\u001b[0m\n\u001b[0m",
      "\u001b[1;32m~\\AppData\\Local\\Temp\\ipykernel_14456\\2913933320.py\u001b[0m in \u001b[0;36mcheck_stock_existence\u001b[1;34m(company_symbol, intraday_companies)\u001b[0m\n\u001b[0;32m      3\u001b[0m     \u001b[0mprint\u001b[0m\u001b[1;33m(\u001b[0m\u001b[0msplit_name_companies\u001b[0m\u001b[1;33m)\u001b[0m\u001b[1;33m\u001b[0m\u001b[1;33m\u001b[0m\u001b[0m\n\u001b[0;32m      4\u001b[0m     \u001b[1;32mif\u001b[0m \u001b[0mcompany_symbol\u001b[0m \u001b[1;32mnot\u001b[0m \u001b[1;32min\u001b[0m \u001b[0mintraday_companies\u001b[0m\u001b[1;33m:\u001b[0m\u001b[1;33m\u001b[0m\u001b[1;33m\u001b[0m\u001b[0m\n\u001b[1;32m----> 5\u001b[1;33m         raise ValueError(f\"The stock of company {company_symbol} doesn't exist. Please run again \\\n\u001b[0m\u001b[0;32m      6\u001b[0m                          df_intraday_raw.parquet to find the stock.\")\n",
      "\u001b[1;31mValueError\u001b[0m: The stock of company CTG doesn't exist. Please run again                          df_intraday_raw.parquet to find the stock."
     ]
    }
   ],
   "source": [
    "intraday_companies = ['CTG.csv']\n",
    "company_symbol = 'CTG'\n",
    "\n",
    "check_stock_existence(company_symbol, intraday_companies)"
   ]
  },
  {
   "cell_type": "code",
   "execution_count": null,
   "id": "20c7d3e1",
   "metadata": {},
   "outputs": [],
   "source": []
  }
 ],
 "metadata": {
  "kernelspec": {
   "display_name": "Python 3 (ipykernel)",
   "language": "python",
   "name": "python3"
  },
  "language_info": {
   "codemirror_mode": {
    "name": "ipython",
    "version": 3
   },
   "file_extension": ".py",
   "mimetype": "text/x-python",
   "name": "python",
   "nbconvert_exporter": "python",
   "pygments_lexer": "ipython3",
   "version": "3.9.13"
  }
 },
 "nbformat": 4,
 "nbformat_minor": 5
}
